{
 "cells": [
  {
   "cell_type": "code",
   "execution_count": 3,
   "metadata": {},
   "outputs": [],
   "source": [
    "from sklearn.datasets import make_regression\n",
    "from sklearn.linear_model import LinearRegression\n",
    "from sklearn.model_selection import cross_validate"
   ]
  },
  {
   "cell_type": "code",
   "execution_count": 6,
   "metadata": {},
   "outputs": [
    {
     "data": {
      "text/plain": [
       "(1000, 100)"
      ]
     },
     "execution_count": 6,
     "metadata": {},
     "output_type": "execute_result"
    }
   ],
   "source": [
    "# sklearn.datasets.make_regression(\n",
    "# n_samples=100, n_features=100, *, n_informative=10, n_targets=1, bias=0.0, effective_rank=None, \n",
    "# tail_strength=0.5, noise=0.0, shuffle=True, coef=False, random_state=None\n",
    "# )\n",
    "# It returns the input and output samples. Also the coefficient of the underlying linear model if coef is True\\\n",
    "X, y = make_regression(n_samples=1000, random_state=0)\n",
    "lr = LinearRegression()"
   ]
  },
  {
   "cell_type": "code",
   "execution_count": 7,
   "metadata": {},
   "outputs": [
    {
     "data": {
      "text/plain": [
       "array([1., 1., 1., 1., 1.])"
      ]
     },
     "execution_count": 7,
     "metadata": {},
     "output_type": "execute_result"
    }
   ],
   "source": [
    "# sklearn.model_selection.cross_validate(\n",
    "# estimator, X, y=None, *, groups=None, scoring=None, cv=None, n_jobs=None, verbose=0, fit_params=None, \n",
    "# pre_dispatch='2*n_jobs', return_train_score=False, return_estimator=False, error_score=nan\n",
    "# )\n",
    "# default to 5-fold when cv=none\n",
    "# returns scores: dict of float arrays of shape\n",
    "# there are test_score, train_score, fit_time, score_time, and estimator in the scores dict\n",
    "result = cross_validate(lr, X, y)\n",
    "result['test_score']"
   ]
  }
 ],
 "metadata": {
  "kernelspec": {
   "display_name": "Python 3",
   "language": "python",
   "name": "python3"
  },
  "language_info": {
   "codemirror_mode": {
    "name": "ipython",
    "version": 3
   },
   "file_extension": ".py",
   "mimetype": "text/x-python",
   "name": "python",
   "nbconvert_exporter": "python",
   "pygments_lexer": "ipython3",
   "version": "3.8.5"
  }
 },
 "nbformat": 4,
 "nbformat_minor": 4
}
