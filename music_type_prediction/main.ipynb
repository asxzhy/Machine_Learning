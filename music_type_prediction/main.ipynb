{
 "cells": [
  {
   "cell_type": "code",
   "execution_count": 2,
   "metadata": {},
   "outputs": [
    {
     "data": {
      "text/plain": [
       "['music-recommender.joblib']"
      ]
     },
     "execution_count": 2,
     "metadata": {},
     "output_type": "execute_result"
    }
   ],
   "source": [
    "import pandas as pd\n",
    "from sklearn.tree import DecisionTreeClassifier  # decision tree algorithm\n",
    "from sklearn.model_selection import train_test_split  # this function splits a dataset into two\n",
    "from sklearn.metrics import accuracy_score  # function that is used to calculate the trained model's accuracy\n",
    "import joblib  # it has function for saivng and loading models\n",
    "\n",
    "music_data = pd.read_csv('music.csv')\n",
    "X = music_data.drop(columns=['genre'])  # creates a new dataset\n",
    "y = music_data['genre']\n",
    "X_train, X_test, y_train, y_test = train_test_split(X, y, test_size=0.2)  # returns a tuble, the third param is the test data size\n",
    "\n",
    "model = DecisionTreeClassifier()\n",
    "model.fit(X_train, y_train)  # train the model with an input set and output set\n",
    "\n",
    "joblib.dump(model, 'music-recommender.joblib')  # store the model\n",
    "\n",
    "# predictions = model.predict(X_test)\n",
    "\n",
    "# score = accuracy_score(y_test, predictions)  # calculate the accuracy\n",
    "# score  # the score will be difference on each run because the training and testing set is different on each run"
   ]
  },
  {
   "cell_type": "code",
   "execution_count": null,
   "metadata": {},
   "outputs": [],
   "source": []
  }
 ],
 "metadata": {
  "kernelspec": {
   "display_name": "Python 3",
   "language": "python",
   "name": "python3"
  },
  "language_info": {
   "codemirror_mode": {
    "name": "ipython",
    "version": 3
   },
   "file_extension": ".py",
   "mimetype": "text/x-python",
   "name": "python",
   "nbconvert_exporter": "python",
   "pygments_lexer": "ipython3",
   "version": "3.8.5"
  }
 },
 "nbformat": 4,
 "nbformat_minor": 4
}
